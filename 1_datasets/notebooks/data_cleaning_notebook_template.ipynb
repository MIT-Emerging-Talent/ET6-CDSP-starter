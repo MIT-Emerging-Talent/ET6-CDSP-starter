{
 "cells": [
  {
   "cell_type": "markdown",
   "id": "7f3b5e90",
   "metadata": {},
   "source": [
    "# Title: (DatasetName-Objective) example: infrastructure_damaged_data_cleaning_script"
   ]
  },
  {
   "cell_type": "markdown",
   "id": "8a920c9e",
   "metadata": {},
   "source": [
    "## Introduction\n",
    "Brief description of the dataset and objective of the cleaning process."
   ]
  },
  {
   "cell_type": "markdown",
   "id": "8000df5b",
   "metadata": {},
   "source": [
    "## Process"
   ]
  },
  {
   "cell_type": "markdown",
   "id": "1096f23b",
   "metadata": {},
   "source": [
    "### Import libraries"
   ]
  },
  {
   "cell_type": "code",
   "execution_count": null,
   "id": "eb9d797e",
   "metadata": {},
   "outputs": [],
   "source": [
    "import pandas as pd\n",
    "import numpy as np\n",
    "import matplotlib.pyplot as plt\n",
    "import seaborn as sns\n",
    "from pandas_profiling import ProfileReport"
   ]
  },
  {
   "cell_type": "markdown",
   "id": "21a99338",
   "metadata": {},
   "source": [
    "### Load Data"
   ]
  },
  {
   "cell_type": "code",
   "execution_count": null,
   "id": "9123b1f6",
   "metadata": {},
   "outputs": [],
   "source": [
    "df = pd.read_csv('dataset.csv')\n",
    "df.head()"
   ]
  },
  {
   "cell_type": "markdown",
   "id": "4b3e86d4",
   "metadata": {},
   "source": [
    "### Explore Data for missing values"
   ]
  },
  {
   "cell_type": "code",
   "execution_count": null,
   "id": "d2d6b1fd",
   "metadata": {},
   "outputs": [],
   "source": [
    "df.info()\n",
    "df.describe()\n",
    "df.isnull().sum()"
   ]
  },
  {
   "cell_type": "markdown",
   "id": "52cb3913",
   "metadata": {},
   "source": [
    "### Handling Missing Values"
   ]
  },
  {
   "cell_type": "code",
   "execution_count": null,
   "id": "909ea314",
   "metadata": {},
   "outputs": [],
   "source": [
    "df['numeric_column'] = df['numeric_column'].fillna(df['numeric_column'].median())\n",
    "df = df.dropna(subset=['critical_categorical_column'])"
   ]
  },
  {
   "cell_type": "markdown",
   "id": "1a3da832",
   "metadata": {},
   "source": [
    "### Handling Duplicates"
   ]
  },
  {
   "cell_type": "code",
   "execution_count": null,
   "id": "edd4a13a",
   "metadata": {},
   "outputs": [],
   "source": [
    "df = df.drop_duplicates()"
   ]
  },
  {
   "cell_type": "markdown",
   "id": "fb1bda16",
   "metadata": {},
   "source": [
    "### Handling Outliers"
   ]
  },
  {
   "cell_type": "code",
   "execution_count": null,
   "id": "d4a3d118",
   "metadata": {},
   "outputs": [],
   "source": [
    "\n",
    "Q1 = df['numeric_column'].quantile(0.25)\n",
    "Q3 = df['numeric_column'].quantile(0.75)\n",
    "IQR = Q3 - Q1\n",
    "condition = ~((df['numeric_column'] < (Q1 - 1.5 * IQR)) | (df['numeric_column'] > (Q3 + 1.5 * IQR)))\n",
    "df = df[condition]"
   ]
  },
  {
   "cell_type": "markdown",
   "id": "72b68287",
   "metadata": {},
   "source": [
    "### Convert Data Types"
   ]
  },
  {
   "cell_type": "code",
   "execution_count": null,
   "id": "9715b8b9",
   "metadata": {},
   "outputs": [],
   "source": [
    "\n",
    "df['date_column'] = pd.to_datetime(df['date_column'])"
   ]
  },
  {
   "cell_type": "markdown",
   "id": "02aca85b",
   "metadata": {},
   "source": [
    "### Feature Engineering"
   ]
  },
  {
   "cell_type": "code",
   "execution_count": null,
   "id": "cc0c5847",
   "metadata": {},
   "outputs": [],
   "source": [
    "\n",
    "df['new_feature'] = df['feature1'] / df['feature2']"
   ]
  },
  {
   "cell_type": "markdown",
   "id": "92a0ed1f",
   "metadata": {},
   "source": [
    "### Data Validation"
   ]
  },
  {
   "cell_type": "code",
   "execution_count": null,
   "id": "f190c74d",
   "metadata": {},
   "outputs": [],
   "source": [
    "\n",
    "df['category_column'].unique()"
   ]
  },
  {
   "cell_type": "markdown",
   "id": "94b26d10",
   "metadata": {},
   "source": [
    "### Save Cleaned Data"
   ]
  },
  {
   "cell_type": "code",
   "execution_count": null,
   "id": "b48e1b35",
   "metadata": {},
   "outputs": [],
   "source": [
    "\n",
    "df.to_csv('cleaned_dataset.csv', index=False)"
   ]
  },
  {
   "cell_type": "markdown",
   "id": "cd586751",
   "metadata": {},
   "source": [
    "# Summary and Next Steps\n",
    "Summarize the cleaning process and outline next steps."
   ]
  }
 ],
 "metadata": {
  "language_info": {
   "name": "python"
  }
 },
 "nbformat": 4,
 "nbformat_minor": 5
}
