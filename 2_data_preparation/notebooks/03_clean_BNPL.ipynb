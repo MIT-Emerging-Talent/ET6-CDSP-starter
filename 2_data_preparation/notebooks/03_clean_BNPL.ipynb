{
 "cells": [
  {
   "cell_type": "markdown",
   "id": "e0ed1402",
   "metadata": {},
   "source": [
    "# 03_clean_BNPL.ipynb\n",
    "\n",
    "## Purpose and Relevance\n",
    "\n",
    "This notebook prepares and cleans the dataset `1_datasets/raw_data/BNPL.csv`, \n",
    "which comes from Kaggle consists of 1,000 customer records mimicking real-world BNPL user profiles. Each row represents a unique customer and includes 15 columns covering behavioral, financial, and demographic features which will help to understand analysis around classification of ethical risk in BNPL.\n",
    "\n",
    "## Output\n",
    "\n",
    "The final cleaned data will be saved in:\n",
    "- `../1_datasets/processed_datasets/BNPL_cleaned.csv`\n"
   ]
  },
  {
   "cell_type": "code",
   "execution_count": 4,
   "id": "855b2ce6",
   "metadata": {},
   "outputs": [],
   "source": [
    "# Import library for data cleaning\n",
    "import pandas as pd"
   ]
  },
  {
   "cell_type": "code",
   "execution_count": 5,
   "id": "c3ae45d5",
   "metadata": {},
   "outputs": [
    {
     "data": {
      "text/html": [
       "<div>\n",
       "<style scoped>\n",
       "    .dataframe tbody tr th:only-of-type {\n",
       "        vertical-align: middle;\n",
       "    }\n",
       "\n",
       "    .dataframe tbody tr th {\n",
       "        vertical-align: top;\n",
       "    }\n",
       "\n",
       "    .dataframe thead th {\n",
       "        text-align: right;\n",
       "    }\n",
       "</style>\n",
       "<table border=\"1\" class=\"dataframe\">\n",
       "  <thead>\n",
       "    <tr style=\"text-align: right;\">\n",
       "      <th></th>\n",
       "      <th>CustomerID</th>\n",
       "      <th>failed_traditional_credit</th>\n",
       "      <th>bnpl_usage_frequency</th>\n",
       "      <th>over_indebtedness_flag</th>\n",
       "      <th>financial_stress_score</th>\n",
       "      <th>external_repayment_loans</th>\n",
       "      <th>credit_card_interest_incidence</th>\n",
       "      <th>credit_limit_utilisation</th>\n",
       "      <th>payment_delinquency_count</th>\n",
       "      <th>impulsive_buying_score</th>\n",
       "      <th>financial_literacy_assessment</th>\n",
       "      <th>debt_accumulation_metric</th>\n",
       "      <th>return_dispute_incidents</th>\n",
       "      <th>demographic_risk_factor</th>\n",
       "      <th>bnpl_debt_ratio</th>\n",
       "    </tr>\n",
       "  </thead>\n",
       "  <tbody>\n",
       "    <tr>\n",
       "      <th>0</th>\n",
       "      <td>CUST_0001</td>\n",
       "      <td>0</td>\n",
       "      <td>15</td>\n",
       "      <td>1</td>\n",
       "      <td>8</td>\n",
       "      <td>0</td>\n",
       "      <td>0</td>\n",
       "      <td>48</td>\n",
       "      <td>2</td>\n",
       "      <td>9</td>\n",
       "      <td>8</td>\n",
       "      <td>1.61</td>\n",
       "      <td>2</td>\n",
       "      <td>3</td>\n",
       "      <td>0.03</td>\n",
       "    </tr>\n",
       "    <tr>\n",
       "      <th>1</th>\n",
       "      <td>CUST_0002</td>\n",
       "      <td>1</td>\n",
       "      <td>12</td>\n",
       "      <td>1</td>\n",
       "      <td>10</td>\n",
       "      <td>1</td>\n",
       "      <td>0</td>\n",
       "      <td>13</td>\n",
       "      <td>5</td>\n",
       "      <td>6</td>\n",
       "      <td>1</td>\n",
       "      <td>2.20</td>\n",
       "      <td>3</td>\n",
       "      <td>2</td>\n",
       "      <td>0.31</td>\n",
       "    </tr>\n",
       "    <tr>\n",
       "      <th>2</th>\n",
       "      <td>CUST_0003</td>\n",
       "      <td>1</td>\n",
       "      <td>14</td>\n",
       "      <td>1</td>\n",
       "      <td>4</td>\n",
       "      <td>0</td>\n",
       "      <td>0</td>\n",
       "      <td>39</td>\n",
       "      <td>5</td>\n",
       "      <td>3</td>\n",
       "      <td>6</td>\n",
       "      <td>4.17</td>\n",
       "      <td>3</td>\n",
       "      <td>4</td>\n",
       "      <td>0.84</td>\n",
       "    </tr>\n",
       "    <tr>\n",
       "      <th>3</th>\n",
       "      <td>CUST_0004</td>\n",
       "      <td>0</td>\n",
       "      <td>8</td>\n",
       "      <td>0</td>\n",
       "      <td>2</td>\n",
       "      <td>0</td>\n",
       "      <td>0</td>\n",
       "      <td>39</td>\n",
       "      <td>4</td>\n",
       "      <td>6</td>\n",
       "      <td>2</td>\n",
       "      <td>4.65</td>\n",
       "      <td>3</td>\n",
       "      <td>5</td>\n",
       "      <td>0.14</td>\n",
       "    </tr>\n",
       "    <tr>\n",
       "      <th>4</th>\n",
       "      <td>CUST_0005</td>\n",
       "      <td>0</td>\n",
       "      <td>3</td>\n",
       "      <td>0</td>\n",
       "      <td>2</td>\n",
       "      <td>1</td>\n",
       "      <td>0</td>\n",
       "      <td>31</td>\n",
       "      <td>2</td>\n",
       "      <td>10</td>\n",
       "      <td>2</td>\n",
       "      <td>3.14</td>\n",
       "      <td>1</td>\n",
       "      <td>1</td>\n",
       "      <td>1.02</td>\n",
       "    </tr>\n",
       "  </tbody>\n",
       "</table>\n",
       "</div>"
      ],
      "text/plain": [
       "  CustomerID  failed_traditional_credit  bnpl_usage_frequency  \\\n",
       "0  CUST_0001                          0                    15   \n",
       "1  CUST_0002                          1                    12   \n",
       "2  CUST_0003                          1                    14   \n",
       "3  CUST_0004                          0                     8   \n",
       "4  CUST_0005                          0                     3   \n",
       "\n",
       "   over_indebtedness_flag  financial_stress_score  external_repayment_loans  \\\n",
       "0                       1                       8                         0   \n",
       "1                       1                      10                         1   \n",
       "2                       1                       4                         0   \n",
       "3                       0                       2                         0   \n",
       "4                       0                       2                         1   \n",
       "\n",
       "   credit_card_interest_incidence  credit_limit_utilisation  \\\n",
       "0                               0                        48   \n",
       "1                               0                        13   \n",
       "2                               0                        39   \n",
       "3                               0                        39   \n",
       "4                               0                        31   \n",
       "\n",
       "   payment_delinquency_count  impulsive_buying_score  \\\n",
       "0                          2                       9   \n",
       "1                          5                       6   \n",
       "2                          5                       3   \n",
       "3                          4                       6   \n",
       "4                          2                      10   \n",
       "\n",
       "   financial_literacy_assessment  debt_accumulation_metric  \\\n",
       "0                              8                      1.61   \n",
       "1                              1                      2.20   \n",
       "2                              6                      4.17   \n",
       "3                              2                      4.65   \n",
       "4                              2                      3.14   \n",
       "\n",
       "   return_dispute_incidents  demographic_risk_factor  bnpl_debt_ratio  \n",
       "0                         2                        3             0.03  \n",
       "1                         3                        2             0.31  \n",
       "2                         3                        4             0.84  \n",
       "3                         3                        5             0.14  \n",
       "4                         1                        1             1.02  "
      ]
     },
     "execution_count": 5,
     "metadata": {},
     "output_type": "execute_result"
    }
   ],
   "source": [
    "#  Load the raw dataset from the 1_datasets/raw_data folder\n",
    "df = pd.read_csv(\"../1_datasets/raw_data/BNPL.csv\")\n",
    "\n",
    "# View the top 5 rows to understand structure\n",
    "df.head()"
   ]
  },
  {
   "cell_type": "code",
   "execution_count": 8,
   "id": "1d961c54",
   "metadata": {},
   "outputs": [
    {
     "data": {
      "text/plain": [
       "Index(['CustomerID', 'failed_traditional_credit', 'bnpl_usage_frequency',\n",
       "       'over_indebtedness_flag', 'financial_stress_score',\n",
       "       'external_repayment_loans', 'credit_card_interest_incidence',\n",
       "       'credit_limit_utilisation', 'payment_delinquency_count',\n",
       "       'impulsive_buying_score', 'financial_literacy_assessment',\n",
       "       'debt_accumulation_metric', 'return_dispute_incidents',\n",
       "       'demographic_risk_factor', 'bnpl_debt_ratio'],\n",
       "      dtype='object')"
      ]
     },
     "execution_count": 8,
     "metadata": {},
     "output_type": "execute_result"
    }
   ],
   "source": [
    "# Check column names\n",
    "df.columns"
   ]
  },
  {
   "cell_type": "markdown",
   "id": "7afc2e49",
   "metadata": {},
   "source": [
    "## 🔎 Variable Dictionary\n",
    "\n",
    "| Feature              | Description                                      |\n",
    "|---------------------|--------------------------------------------------|\n",
    "| CustomerID              | Unique identifier for each customer |\n",
    "| failed_traditional_credit           | Whether the customer was denied traditional credit (e.g., loan/credit card rejection)       |\n",
    "| bnpl_usage_frequency    | How often the customer uses Buy Now Pay Later services                 |\n",
    "| over_indebtedness_flag  | Indicates if the customer is considered over-indebted (likely a binary flag)              |\n",
    "| financial_stress_score  | Numeric score representing the customer’s financial stress level              |\n",
    "| external_repayment_loans  | Number of loans the customer is repaying outside of BNPL              |\n",
    "| credit_card_interest_incidence| Whether the customer has incurred credit card interest charges (likely binary)            |\n",
    "| credit_limit_utilisation   | Proportion of credit limit currently used by the customer                          |\n",
    "| payment_delinquency_count   | Number of times the customer has missed or delayed payments                          |\n",
    "| impulsive_buying_score   | Score reflecting the customer’s tendency for impulsive purchases                          |\n",
    "| financial_literacy_assessment   | Score or category indicating the customer’s financial literacy level                          |\n",
    "| debt_accumulation_metric   | Metric indicating how much debt the customer is accumulating                          |\n",
    "| return_dispute_incidents   | Number of times the customer has disputed a return or transaction                          |\n",
    "| demographic_risk_factor   | Risk factor based on demographic information (e.g., age, income, location)                          |\n",
    "| bnpl_debt_ratio   | Ratio of BNPL debt to total debt or income                         |"
   ]
  },
  {
   "cell_type": "code",
   "execution_count": null,
   "id": "657ec86d",
   "metadata": {},
   "outputs": [
    {
     "name": "stdout",
     "output_type": "stream",
     "text": [
      "Rows with missing values: 0\n"
     ]
    }
   ],
   "source": [
    "# Check for missing values\n",
    "missing = df[df.isnull().any(axis=1)]\n",
    "print(\"Rows with missing values:\", len(missing))\n",
    "# Check for duplicate rows\n",
    "duplicates = df.duplicated().sum()\n",
    "print(\"Number of duplicate rows:\", duplicates)"
   ]
  },
  {
   "cell_type": "code",
   "execution_count": 12,
   "id": "974d5655",
   "metadata": {},
   "outputs": [
    {
     "name": "stdout",
     "output_type": "stream",
     "text": [
      "Data types of each column:\n",
      " CustomerID                         object\n",
      "failed_traditional_credit           int64\n",
      "bnpl_usage_frequency                int64\n",
      "over_indebtedness_flag              int64\n",
      "financial_stress_score              int64\n",
      "external_repayment_loans            int64\n",
      "credit_card_interest_incidence      int64\n",
      "credit_limit_utilisation            int64\n",
      "payment_delinquency_count           int64\n",
      "impulsive_buying_score              int64\n",
      "financial_literacy_assessment       int64\n",
      "debt_accumulation_metric          float64\n",
      "return_dispute_incidents            int64\n",
      "demographic_risk_factor             int64\n",
      "bnpl_debt_ratio                   float64\n",
      "dtype: object\n"
     ]
    }
   ],
   "source": [
    "# Check for data types\n",
    "data_types = df.dtypes\n",
    "print(\"Data types of each column:\\n\", data_types)"
   ]
  },
  {
   "cell_type": "markdown",
   "id": "87e635d6",
   "metadata": {},
   "source": [
    "## Save Cleaned Data\n",
    "\n",
    "We now export the cleaned dataset to the \n",
    "`/1_datasets/processed_datasets` folder. This cleaned version will be \n",
    "used in Milestone 4 for further exploration and \n",
    "comparative modeling."
   ]
  },
  {
   "cell_type": "code",
   "execution_count": 13,
   "id": "fc789845",
   "metadata": {},
   "outputs": [
    {
     "name": "stdout",
     "output_type": "stream",
     "text": [
      "Cleaned file saved in /1_datasets/processed_datasets/\n"
     ]
    }
   ],
   "source": [
    "# Save cleaned CSV for use in MS4\n",
    "df.to_csv(\"../1_datasets/processed_datasets/BNPL_cleaned.csv\", index=False)\n",
    "\n",
    "print(\"Cleaned file saved in /1_datasets/processed_datasets/\")"
   ]
  }
 ],
 "metadata": {
  "kernelspec": {
   "display_name": "Python 3",
   "language": "python",
   "name": "python3"
  },
  "language_info": {
   "codemirror_mode": {
    "name": "ipython",
    "version": 3
   },
   "file_extension": ".py",
   "mimetype": "text/x-python",
   "name": "python",
   "nbconvert_exporter": "python",
   "pygments_lexer": "ipython3",
   "version": "3.12.10"
  }
 },
 "nbformat": 4,
 "nbformat_minor": 5
}
