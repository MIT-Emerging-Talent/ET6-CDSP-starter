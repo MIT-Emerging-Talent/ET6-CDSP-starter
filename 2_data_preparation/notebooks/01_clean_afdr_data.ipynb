{
 "cells": [
  {
   "cell_type": "markdown",
   "id": "e0ed1402",
   "metadata": {},
   "source": [
    "# 🧼 01_clean_afdr_data.ipynb\n",
    "\n",
    "## 🎯 Purpose\n",
    "\n",
    "This notebook prepares and cleans the dataset `1_datasets/raw_data/afdr_a8.csv`, \n",
    "which comes from the USDA Agricultural Finance Databook \n",
    "(Table A8). The dataset includes loan volume data across \n",
    "various loan sizes for U.S. farms, reported quarterly.\n",
    "\n",
    "## 🤔 Why this data is relevant\n",
    "\n",
    "Our project studies the relationship between demographic and \n",
    "financial behavior features and the likelihood of loan default, \n",
    "with a focus on comparing traditional loans and Buy Now, \n",
    "Pay Later (BNPL) services. \n",
    "\n",
    "This dataset offers historical insights into how traditional \n",
    "loan systems are structured and categorized by size, \n",
    "giving us a useful point of comparison with modern \n",
    "BNPL patterns.\n",
    "\n",
    "## 📁 Output\n",
    "\n",
    "The final cleaned data will be saved in:\n",
    "- `../1_datasets/processed_datasets/afdr_cleaned.csv`\n"
   ]
  },
  {
   "cell_type": "code",
   "execution_count": 1,
   "id": "855b2ce6",
   "metadata": {},
   "outputs": [],
   "source": [
    "# Import library for data cleaning\n",
    "import pandas as pd"
   ]
  },
  {
   "cell_type": "code",
   "execution_count": 7,
   "id": "982022c6",
   "metadata": {},
   "outputs": [
    {
     "data": {
      "text/html": [
       "<div>\n",
       "<style scoped>\n",
       "    .dataframe tbody tr th:only-of-type {\n",
       "        vertical-align: middle;\n",
       "    }\n",
       "\n",
       "    .dataframe tbody tr th {\n",
       "        vertical-align: top;\n",
       "    }\n",
       "\n",
       "    .dataframe thead th {\n",
       "        text-align: right;\n",
       "    }\n",
       "</style>\n",
       "<table border=\"1\" class=\"dataframe\">\n",
       "  <thead>\n",
       "    <tr style=\"text-align: right;\">\n",
       "      <th></th>\n",
       "      <th>Loan Characteristic</th>\n",
       "      <th>Period</th>\n",
       "      <th>All sizes</th>\n",
       "      <th>$1,000 to!$9,000</th>\n",
       "      <th>$10,000 to!$24,000</th>\n",
       "      <th>$25,000 to!$49,000</th>\n",
       "      <th>$50,000 to!$99,000</th>\n",
       "      <th>$100,000 to!$249,000</th>\n",
       "      <th>$250,000!and over</th>\n",
       "    </tr>\n",
       "  </thead>\n",
       "  <tbody>\n",
       "    <tr>\n",
       "      <th>0</th>\n",
       "      <td>Volume of loans (thousands of dollars)</td>\n",
       "      <td>1999Q4</td>\n",
       "      <td>1051926.0</td>\n",
       "      <td>63260.0</td>\n",
       "      <td>112099.0</td>\n",
       "      <td>126997.0</td>\n",
       "      <td>174266.0</td>\n",
       "      <td>236799.0</td>\n",
       "      <td>338506</td>\n",
       "    </tr>\n",
       "    <tr>\n",
       "      <th>1</th>\n",
       "      <td>Volume of loans (thousands of dollars)</td>\n",
       "      <td>2000Q1</td>\n",
       "      <td>1333957.0</td>\n",
       "      <td>109035.0</td>\n",
       "      <td>169336.0</td>\n",
       "      <td>145658.0</td>\n",
       "      <td>191837.0</td>\n",
       "      <td>326655.0</td>\n",
       "      <td>391436</td>\n",
       "    </tr>\n",
       "    <tr>\n",
       "      <th>2</th>\n",
       "      <td>Volume of loans (thousands of dollars)</td>\n",
       "      <td>2000Q2</td>\n",
       "      <td>922761.0</td>\n",
       "      <td>79545.0</td>\n",
       "      <td>113414.0</td>\n",
       "      <td>137081.0</td>\n",
       "      <td>123415.0</td>\n",
       "      <td>199123.0</td>\n",
       "      <td>270183</td>\n",
       "    </tr>\n",
       "    <tr>\n",
       "      <th>3</th>\n",
       "      <td>Volume of loans (thousands of dollars)</td>\n",
       "      <td>2000Q3</td>\n",
       "      <td>926568.0</td>\n",
       "      <td>83900.0</td>\n",
       "      <td>133918.0</td>\n",
       "      <td>123899.0</td>\n",
       "      <td>121227.0</td>\n",
       "      <td>169822.0</td>\n",
       "      <td>293803</td>\n",
       "    </tr>\n",
       "    <tr>\n",
       "      <th>4</th>\n",
       "      <td>Volume of loans (thousands of dollars)</td>\n",
       "      <td>2000Q4</td>\n",
       "      <td>922761.0</td>\n",
       "      <td>79545.0</td>\n",
       "      <td>113414.0</td>\n",
       "      <td>137081.0</td>\n",
       "      <td>123415.0</td>\n",
       "      <td>199123.0</td>\n",
       "      <td>270183</td>\n",
       "    </tr>\n",
       "  </tbody>\n",
       "</table>\n",
       "</div>"
      ],
      "text/plain": [
       "                      Loan Characteristic  Period  All sizes  \\\n",
       "0  Volume of loans (thousands of dollars)  1999Q4  1051926.0   \n",
       "1  Volume of loans (thousands of dollars)  2000Q1  1333957.0   \n",
       "2  Volume of loans (thousands of dollars)  2000Q2   922761.0   \n",
       "3  Volume of loans (thousands of dollars)  2000Q3   926568.0   \n",
       "4  Volume of loans (thousands of dollars)  2000Q4   922761.0   \n",
       "\n",
       "   $1,000 to!$9,000  $10,000 to!$24,000  $25,000 to!$49,000  \\\n",
       "0           63260.0            112099.0            126997.0   \n",
       "1          109035.0            169336.0            145658.0   \n",
       "2           79545.0            113414.0            137081.0   \n",
       "3           83900.0            133918.0            123899.0   \n",
       "4           79545.0            113414.0            137081.0   \n",
       "\n",
       "   $50,000 to!$99,000  $100,000 to!$249,000 $250,000!and over  \n",
       "0            174266.0              236799.0            338506  \n",
       "1            191837.0              326655.0            391436  \n",
       "2            123415.0              199123.0            270183  \n",
       "3            121227.0              169822.0            293803  \n",
       "4            123415.0              199123.0            270183  "
      ]
     },
     "execution_count": 7,
     "metadata": {},
     "output_type": "execute_result"
    }
   ],
   "source": [
    "#  Load the raw dataset from the 1_datasets/raw_data folder\n",
    "df = pd.read_csv(\"../1_datasets/raw_data/afdr_a8.csv\")\n",
    "\n",
    "# View the top 5 rows to understand structure\n",
    "df.head()"
   ]
  },
  {
   "cell_type": "code",
   "execution_count": 8,
   "id": "c3ae45d5",
   "metadata": {},
   "outputs": [
    {
     "data": {
      "text/html": [
       "<div>\n",
       "<style scoped>\n",
       "    .dataframe tbody tr th:only-of-type {\n",
       "        vertical-align: middle;\n",
       "    }\n",
       "\n",
       "    .dataframe tbody tr th {\n",
       "        vertical-align: top;\n",
       "    }\n",
       "\n",
       "    .dataframe thead th {\n",
       "        text-align: right;\n",
       "    }\n",
       "</style>\n",
       "<table border=\"1\" class=\"dataframe\">\n",
       "  <thead>\n",
       "    <tr style=\"text-align: right;\">\n",
       "      <th></th>\n",
       "      <th>Year</th>\n",
       "      <th>Quarter</th>\n",
       "      <th>All sizes</th>\n",
       "      <th>$1,000 to!$9,000</th>\n",
       "      <th>$10,000 to!$24,000</th>\n",
       "      <th>$25,000 to!$49,000</th>\n",
       "      <th>$50,000 to!$99,000</th>\n",
       "      <th>$100,000 to!$249,000</th>\n",
       "      <th>$250,000!and over</th>\n",
       "    </tr>\n",
       "  </thead>\n",
       "  <tbody>\n",
       "    <tr>\n",
       "      <th>0</th>\n",
       "      <td>1999</td>\n",
       "      <td>4</td>\n",
       "      <td>1051926.0</td>\n",
       "      <td>63260.0</td>\n",
       "      <td>112099.0</td>\n",
       "      <td>126997.0</td>\n",
       "      <td>174266.0</td>\n",
       "      <td>236799.0</td>\n",
       "      <td>338506</td>\n",
       "    </tr>\n",
       "    <tr>\n",
       "      <th>1</th>\n",
       "      <td>2000</td>\n",
       "      <td>1</td>\n",
       "      <td>1333957.0</td>\n",
       "      <td>109035.0</td>\n",
       "      <td>169336.0</td>\n",
       "      <td>145658.0</td>\n",
       "      <td>191837.0</td>\n",
       "      <td>326655.0</td>\n",
       "      <td>391436</td>\n",
       "    </tr>\n",
       "    <tr>\n",
       "      <th>2</th>\n",
       "      <td>2000</td>\n",
       "      <td>2</td>\n",
       "      <td>922761.0</td>\n",
       "      <td>79545.0</td>\n",
       "      <td>113414.0</td>\n",
       "      <td>137081.0</td>\n",
       "      <td>123415.0</td>\n",
       "      <td>199123.0</td>\n",
       "      <td>270183</td>\n",
       "    </tr>\n",
       "    <tr>\n",
       "      <th>3</th>\n",
       "      <td>2000</td>\n",
       "      <td>3</td>\n",
       "      <td>926568.0</td>\n",
       "      <td>83900.0</td>\n",
       "      <td>133918.0</td>\n",
       "      <td>123899.0</td>\n",
       "      <td>121227.0</td>\n",
       "      <td>169822.0</td>\n",
       "      <td>293803</td>\n",
       "    </tr>\n",
       "    <tr>\n",
       "      <th>4</th>\n",
       "      <td>2000</td>\n",
       "      <td>4</td>\n",
       "      <td>922761.0</td>\n",
       "      <td>79545.0</td>\n",
       "      <td>113414.0</td>\n",
       "      <td>137081.0</td>\n",
       "      <td>123415.0</td>\n",
       "      <td>199123.0</td>\n",
       "      <td>270183</td>\n",
       "    </tr>\n",
       "  </tbody>\n",
       "</table>\n",
       "</div>"
      ],
      "text/plain": [
       "   Year  Quarter  All sizes  $1,000 to!$9,000  $10,000 to!$24,000  \\\n",
       "0  1999        4  1051926.0           63260.0            112099.0   \n",
       "1  2000        1  1333957.0          109035.0            169336.0   \n",
       "2  2000        2   922761.0           79545.0            113414.0   \n",
       "3  2000        3   926568.0           83900.0            133918.0   \n",
       "4  2000        4   922761.0           79545.0            113414.0   \n",
       "\n",
       "   $25,000 to!$49,000  $50,000 to!$99,000  $100,000 to!$249,000  \\\n",
       "0            126997.0            174266.0              236799.0   \n",
       "1            145658.0            191837.0              326655.0   \n",
       "2            137081.0            123415.0              199123.0   \n",
       "3            123899.0            121227.0              169822.0   \n",
       "4            137081.0            123415.0              199123.0   \n",
       "\n",
       "  $250,000!and over  \n",
       "0            338506  \n",
       "1            391436  \n",
       "2            270183  \n",
       "3            293803  \n",
       "4            270183  "
      ]
     },
     "execution_count": 8,
     "metadata": {},
     "output_type": "execute_result"
    }
   ],
   "source": [
    "# Split 'Period' into 'Year' and 'Quarter'\n",
    "df[[\"Year\", \"Quarter\"]] = df[\"Period\"].str.extract(r\"(\\d{4})Q(\\d)\")\n",
    "df[\"Year\"] = df[\"Year\"].astype(int)\n",
    "df[\"Quarter\"] = df[\"Quarter\"].astype(int)\n",
    "\n",
    "# Move 'Year' and 'Quarter' to the front for clarity\n",
    "cols = [\"Year\", \"Quarter\"] + [\n",
    "    col for col in df.columns if col not in [\"Year\", \"Quarter\"]\n",
    "]\n",
    "df = df[cols]\n",
    "\n",
    "# Drop the 'Loan Characteristic' and 'Period' columns\n",
    "df = df.drop(columns=[\"Loan Characteristic\", \"Period\"])\n",
    "\n",
    "# View the top 5 rows to observe the changes\n",
    "df.head()"
   ]
  },
  {
   "cell_type": "markdown",
   "id": "7afc2e49",
   "metadata": {},
   "source": [
    "## 🔎 Variable Dictionary\n",
    "\n",
    "| Column              | Description                                      |\n",
    "|---------------------|--------------------------------------------------|\n",
    "| Year                | Year of the survey                              |\n",
    "| Quarter             | Quarter of the year\n",
    "| All sizes           | Total volume of all loans in that quarter       |\n",
    "| $1,000 to!$9,000    | Loan volume between $1k and $9k                 |\n",
    "| $10,000 to!$24,000  | Loan volume between $10k and $24k              |\n",
    "| $25,000 to!$49,000  | Loan volume between $25k and $49k              |\n",
    "| $50,000 to!$99,000  | Loan volume between $50k and $99k              |\n",
    "| $100,000 to!$249,000| Loan volume between $100k and $249k            |\n",
    "| $250,000!and over   | Loan volume over $250k                          |"
   ]
  },
  {
   "cell_type": "code",
   "execution_count": 9,
   "id": "1d961c54",
   "metadata": {},
   "outputs": [
    {
     "data": {
      "text/plain": [
       "Index(['Year', 'Quarter', 'All_Loan_Sizes', '$1k–9k', '$10k–24k', '$25k–49k',\n",
       "       '$50k–99k', '$100k–249k', '$250k+'],\n",
       "      dtype='object')"
      ]
     },
     "execution_count": 9,
     "metadata": {},
     "output_type": "execute_result"
    }
   ],
   "source": [
    "# Rename messy columns to be cleaner and consistent\n",
    "df.rename(\n",
    "    columns={\n",
    "        \"$1,000 to!$9,000\": \"$1k–9k\",\n",
    "        \"$10,000 to!$24,000\": \"$10k–24k\",\n",
    "        \"$25,000 to!$49,000\": \"$25k–49k\",\n",
    "        \"$50,000 to!$99,000\": \"$50k–99k\",\n",
    "        \"$100,000 to!$249,000\": \"$100k–249k\",\n",
    "        \"$250,000!and over\": \"$250k+\",\n",
    "        \"All sizes\": \"All_Loan_Sizes\",\n",
    "    },\n",
    "    inplace=True,\n",
    ")\n",
    "\n",
    "# Check new column names\n",
    "df.columns"
   ]
  },
  {
   "cell_type": "code",
   "execution_count": 12,
   "id": "c1c86ba6",
   "metadata": {},
   "outputs": [
    {
     "data": {
      "text/plain": [
       "Year                int64\n",
       "Quarter             int64\n",
       "All_Loan_Sizes    float64\n",
       "$1k–9k            float64\n",
       "$10k–24k          float64\n",
       "$25k–49k          float64\n",
       "$50k–99k          float64\n",
       "$100k–249k        float64\n",
       "$250k+            float64\n",
       "dtype: object"
      ]
     },
     "execution_count": 12,
     "metadata": {},
     "output_type": "execute_result"
    }
   ],
   "source": [
    "# Identify which columns to convert (skip 'Period')\n",
    "cols_to_convert = df.columns.difference([\"Year\", \"Quarter\"])\n",
    "\n",
    "# Convert selected columns to numeric type\n",
    "df[cols_to_convert] = df[cols_to_convert].apply(pd.to_numeric, errors=\"coerce\")\n",
    "\n",
    "# Confirm types\n",
    "df.dtypes"
   ]
  },
  {
   "cell_type": "code",
   "execution_count": 11,
   "id": "9bdd2e83",
   "metadata": {},
   "outputs": [
    {
     "name": "stdout",
     "output_type": "stream",
     "text": [
      "Rows with missing values: 0\n"
     ]
    }
   ],
   "source": [
    "# Check for missing values\n",
    "missing = df[df.isnull().any(axis=1)]\n",
    "print(\"Rows with missing values:\", len(missing))\n",
    "\n",
    "# Replace missing values with 0\n",
    "df.fillna(0, inplace=True)"
   ]
  },
  {
   "cell_type": "markdown",
   "id": "87e635d6",
   "metadata": {},
   "source": [
    "## Save Cleaned Data\n",
    "\n",
    "We now export the cleaned dataset to the \n",
    "`/1_datasets/processed_datasets` folder. This cleaned version will be \n",
    "used in Milestone 4 for further exploration and \n",
    "comparative modeling."
   ]
  },
  {
   "cell_type": "code",
   "execution_count": 14,
   "id": "fc789845",
   "metadata": {},
   "outputs": [
    {
     "name": "stdout",
     "output_type": "stream",
     "text": [
      "✅ Cleaned file saved in /1_datasets/processed_datasets/\n"
     ]
    }
   ],
   "source": [
    "# 💾 Save cleaned CSV for use in MS4\n",
    "df.to_csv(\"../1_datasets/processed_datasets/afdr_cleaned.csv\", index=False)\n",
    "\n",
    "print(\"✅ Cleaned file saved in /1_datasets/processed_datasets/\")"
   ]
  }
 ],
 "metadata": {
  "kernelspec": {
   "display_name": "Python 3",
   "language": "python",
   "name": "python3"
  },
  "language_info": {
   "codemirror_mode": {
    "name": "ipython",
    "version": 3
   },
   "file_extension": ".py",
   "mimetype": "text/x-python",
   "name": "python",
   "nbconvert_exporter": "python",
   "pygments_lexer": "ipython3",
   "version": "3.13.5"
  }
 },
 "nbformat": 4,
 "nbformat_minor": 5
}
