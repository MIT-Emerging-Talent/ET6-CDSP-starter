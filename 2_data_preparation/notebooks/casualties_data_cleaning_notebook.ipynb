{
 "cells": [
  {
   "cell_type": "markdown",
   "id": "0e8ea887",
   "metadata": {},
   "source": [
    "## We need tools to work with our data\n",
    "#### pandas is for handling tables, numpy is for numbers and matplotlib is for graphics or plotting"
   ]
  },
  {
   "cell_type": "code",
   "execution_count": null,
   "id": "9d21cbc0",
   "metadata": {},
   "outputs": [
    {
     "ename": "",
     "evalue": "",
     "output_type": "error",
     "traceback": [
      "\u001b[1;31mRunning cells with 'Taklif-AI (Python 3.12.6)' requires the ipykernel package.\n",
      "\u001b[1;31m<a href='command:jupyter.createPythonEnvAndSelectController'>Create a Python Environment</a> with the required packages."
     ]
    }
   ],
   "source": [
    "%pip install seaborn;\n",
    "%pip install pandas-profiling;\n",
    "%pip install pydantic-settings;\n",
    "\n",
    "import pandas as pd  # noqa: F401\n",
    "import numpy as np  # noqa: F401\n",
    "import matplotlib.pyplot as plt  # noqa: F401\n",
    "import seaborn as sns  # noqa: F401"
   ]
  },
  {
   "cell_type": "markdown",
   "id": "55008a70",
   "metadata": {},
   "source": [
    "### Step 1: Load the data"
   ]
  },
  {
   "cell_type": "code",
   "execution_count": null,
   "id": "5870da0c",
   "metadata": {},
   "outputs": [],
   "source": [
    "# Read the CSV file into a table (called a DataFrame)\n",
    "df = pd.read_csv(\n",
    "    \"../../1_datasets/data/01_category_war_events_data/gaza_war_events/casualties_daily/data.csv\"\n",
    ")"
   ]
  },
  {
   "cell_type": "code",
   "execution_count": 51,
   "id": "e30f52a9",
   "metadata": {},
   "outputs": [
    {
     "data": {
      "text/html": [
       "<div>\n",
       "<style scoped>\n",
       "    .dataframe tbody tr th:only-of-type {\n",
       "        vertical-align: middle;\n",
       "    }\n",
       "\n",
       "    .dataframe tbody tr th {\n",
       "        vertical-align: top;\n",
       "    }\n",
       "\n",
       "    .dataframe thead th {\n",
       "        text-align: right;\n",
       "    }\n",
       "</style>\n",
       "<table border=\"1\" class=\"dataframe\">\n",
       "  <thead>\n",
       "    <tr style=\"text-align: right;\">\n",
       "      <th></th>\n",
       "      <th>report_date</th>\n",
       "      <th>report_source</th>\n",
       "      <th>report_period</th>\n",
       "      <th>ext_massacres_cum</th>\n",
       "      <th>killed</th>\n",
       "      <th>killed_cum</th>\n",
       "      <th>ext_killed</th>\n",
       "      <th>ext_killed_cum</th>\n",
       "      <th>ext_killed_children_cum</th>\n",
       "      <th>ext_killed_women_cum</th>\n",
       "      <th>...</th>\n",
       "      <th>ext_injured_cum</th>\n",
       "      <th>ext_civdef_killed_cum</th>\n",
       "      <th>med_killed_cum</th>\n",
       "      <th>ext_med_killed_cum</th>\n",
       "      <th>press_killed_cum</th>\n",
       "      <th>ext_press_killed_cum</th>\n",
       "      <th>killed_recovered</th>\n",
       "      <th>killed_succumbed</th>\n",
       "      <th>killed_truce_new</th>\n",
       "      <th>killed_committee</th>\n",
       "    </tr>\n",
       "  </thead>\n",
       "  <tbody>\n",
       "    <tr>\n",
       "      <th>0</th>\n",
       "      <td>2023-10-07</td>\n",
       "      <td>mohtel</td>\n",
       "      <td>24</td>\n",
       "      <td>0</td>\n",
       "      <td>232.0</td>\n",
       "      <td>232.0</td>\n",
       "      <td>232</td>\n",
       "      <td>232</td>\n",
       "      <td>0</td>\n",
       "      <td>0</td>\n",
       "      <td>...</td>\n",
       "      <td>1610</td>\n",
       "      <td>0</td>\n",
       "      <td>6.0</td>\n",
       "      <td>6</td>\n",
       "      <td>1.0</td>\n",
       "      <td>1</td>\n",
       "      <td>NaN</td>\n",
       "      <td>NaN</td>\n",
       "      <td>NaN</td>\n",
       "      <td>NaN</td>\n",
       "    </tr>\n",
       "    <tr>\n",
       "      <th>1</th>\n",
       "      <td>2023-10-08</td>\n",
       "      <td>mohtel</td>\n",
       "      <td>24</td>\n",
       "      <td>0</td>\n",
       "      <td>138.0</td>\n",
       "      <td>370.0</td>\n",
       "      <td>138</td>\n",
       "      <td>370</td>\n",
       "      <td>78</td>\n",
       "      <td>41</td>\n",
       "      <td>...</td>\n",
       "      <td>1788</td>\n",
       "      <td>0</td>\n",
       "      <td>NaN</td>\n",
       "      <td>6</td>\n",
       "      <td>1.0</td>\n",
       "      <td>1</td>\n",
       "      <td>NaN</td>\n",
       "      <td>NaN</td>\n",
       "      <td>NaN</td>\n",
       "      <td>NaN</td>\n",
       "    </tr>\n",
       "    <tr>\n",
       "      <th>2</th>\n",
       "      <td>2023-10-09</td>\n",
       "      <td>mohtel</td>\n",
       "      <td>24</td>\n",
       "      <td>8</td>\n",
       "      <td>190.0</td>\n",
       "      <td>560.0</td>\n",
       "      <td>190</td>\n",
       "      <td>560</td>\n",
       "      <td>91</td>\n",
       "      <td>61</td>\n",
       "      <td>...</td>\n",
       "      <td>2271</td>\n",
       "      <td>0</td>\n",
       "      <td>6.0</td>\n",
       "      <td>6</td>\n",
       "      <td>3.0</td>\n",
       "      <td>3</td>\n",
       "      <td>NaN</td>\n",
       "      <td>NaN</td>\n",
       "      <td>NaN</td>\n",
       "      <td>NaN</td>\n",
       "    </tr>\n",
       "    <tr>\n",
       "      <th>3</th>\n",
       "      <td>2023-10-10</td>\n",
       "      <td>mohtel</td>\n",
       "      <td>24</td>\n",
       "      <td>8</td>\n",
       "      <td>340.0</td>\n",
       "      <td>900.0</td>\n",
       "      <td>340</td>\n",
       "      <td>900</td>\n",
       "      <td>260</td>\n",
       "      <td>230</td>\n",
       "      <td>...</td>\n",
       "      <td>4000</td>\n",
       "      <td>0</td>\n",
       "      <td>NaN</td>\n",
       "      <td>6</td>\n",
       "      <td>7.0</td>\n",
       "      <td>7</td>\n",
       "      <td>NaN</td>\n",
       "      <td>NaN</td>\n",
       "      <td>NaN</td>\n",
       "      <td>NaN</td>\n",
       "    </tr>\n",
       "    <tr>\n",
       "      <th>4</th>\n",
       "      <td>2023-10-11</td>\n",
       "      <td>gmotel</td>\n",
       "      <td>24</td>\n",
       "      <td>23</td>\n",
       "      <td>200.0</td>\n",
       "      <td>1100.0</td>\n",
       "      <td>200</td>\n",
       "      <td>1100</td>\n",
       "      <td>398</td>\n",
       "      <td>230</td>\n",
       "      <td>...</td>\n",
       "      <td>5184</td>\n",
       "      <td>0</td>\n",
       "      <td>10.0</td>\n",
       "      <td>10</td>\n",
       "      <td>NaN</td>\n",
       "      <td>7</td>\n",
       "      <td>NaN</td>\n",
       "      <td>NaN</td>\n",
       "      <td>NaN</td>\n",
       "      <td>NaN</td>\n",
       "    </tr>\n",
       "  </tbody>\n",
       "</table>\n",
       "<p>5 rows × 22 columns</p>\n",
       "</div>"
      ],
      "text/plain": [
       "  report_date report_source  report_period  ext_massacres_cum  killed  \\\n",
       "0  2023-10-07        mohtel             24                  0   232.0   \n",
       "1  2023-10-08        mohtel             24                  0   138.0   \n",
       "2  2023-10-09        mohtel             24                  8   190.0   \n",
       "3  2023-10-10        mohtel             24                  8   340.0   \n",
       "4  2023-10-11        gmotel             24                 23   200.0   \n",
       "\n",
       "   killed_cum  ext_killed  ext_killed_cum  ext_killed_children_cum  \\\n",
       "0       232.0         232             232                        0   \n",
       "1       370.0         138             370                       78   \n",
       "2       560.0         190             560                       91   \n",
       "3       900.0         340             900                      260   \n",
       "4      1100.0         200            1100                      398   \n",
       "\n",
       "   ext_killed_women_cum  ...  ext_injured_cum  ext_civdef_killed_cum  \\\n",
       "0                     0  ...             1610                      0   \n",
       "1                    41  ...             1788                      0   \n",
       "2                    61  ...             2271                      0   \n",
       "3                   230  ...             4000                      0   \n",
       "4                   230  ...             5184                      0   \n",
       "\n",
       "   med_killed_cum  ext_med_killed_cum  press_killed_cum  ext_press_killed_cum  \\\n",
       "0             6.0                   6               1.0                     1   \n",
       "1             NaN                   6               1.0                     1   \n",
       "2             6.0                   6               3.0                     3   \n",
       "3             NaN                   6               7.0                     7   \n",
       "4            10.0                  10               NaN                     7   \n",
       "\n",
       "   killed_recovered  killed_succumbed  killed_truce_new  killed_committee  \n",
       "0               NaN               NaN               NaN               NaN  \n",
       "1               NaN               NaN               NaN               NaN  \n",
       "2               NaN               NaN               NaN               NaN  \n",
       "3               NaN               NaN               NaN               NaN  \n",
       "4               NaN               NaN               NaN               NaN  \n",
       "\n",
       "[5 rows x 22 columns]"
      ]
     },
     "execution_count": 51,
     "metadata": {},
     "output_type": "execute_result"
    }
   ],
   "source": [
    "df.head()  # Display the first few rows"
   ]
  },
  {
   "cell_type": "code",
   "execution_count": 52,
   "id": "7018d9b9",
   "metadata": {},
   "outputs": [
    {
     "name": "stdout",
     "output_type": "stream",
     "text": [
      "<class 'pandas.core.frame.DataFrame'>\n",
      "RangeIndex: 631 entries, 0 to 630\n",
      "Data columns (total 22 columns):\n",
      " #   Column                   Non-Null Count  Dtype  \n",
      "---  ------                   --------------  -----  \n",
      " 0   report_date              631 non-null    object \n",
      " 1   report_source            631 non-null    object \n",
      " 2   report_period            631 non-null    int64  \n",
      " 3   ext_massacres_cum        631 non-null    int64  \n",
      " 4   killed                   604 non-null    float64\n",
      " 5   killed_cum               624 non-null    float64\n",
      " 6   ext_killed               631 non-null    int64  \n",
      " 7   ext_killed_cum           631 non-null    int64  \n",
      " 8   ext_killed_children_cum  631 non-null    int64  \n",
      " 9   ext_killed_women_cum     631 non-null    int64  \n",
      " 10  injured_cum              616 non-null    float64\n",
      " 11  ext_injured              631 non-null    int64  \n",
      " 12  ext_injured_cum          631 non-null    int64  \n",
      " 13  ext_civdef_killed_cum    631 non-null    int64  \n",
      " 14  med_killed_cum           138 non-null    float64\n",
      " 15  ext_med_killed_cum       631 non-null    int64  \n",
      " 16  press_killed_cum         154 non-null    float64\n",
      " 17  ext_press_killed_cum     631 non-null    int64  \n",
      " 18  killed_recovered         99 non-null     float64\n",
      " 19  killed_succumbed         16 non-null     float64\n",
      " 20  killed_truce_new         133 non-null    float64\n",
      " 21  killed_committee         5 non-null      float64\n",
      "dtypes: float64(9), int64(11), object(2)\n",
      "memory usage: 108.6+ KB\n"
     ]
    }
   ],
   "source": [
    "df.info()  # Display information about the DataFrame, including data types and non-null counts"
   ]
  },
  {
   "cell_type": "markdown",
   "id": "3bf3ff5e",
   "metadata": {},
   "source": [
    "### Step 2: Handle missing numbers"
   ]
  },
  {
   "cell_type": "code",
   "execution_count": null,
   "id": "23def2f9",
   "metadata": {},
   "outputs": [],
   "source": [
    "# define the columns first\n",
    "\n",
    "number_columns = df.columns\n",
    "\n",
    "# Identify columns with numeric data types\n",
    "for column in number_columns:\n",
    "    df[column] = df[column].fillna(0)  # Replace empty cells with 0"
   ]
  },
  {
   "cell_type": "markdown",
   "id": "46719943",
   "metadata": {},
   "source": [
    "### Step 3: Handle missing text"
   ]
  },
  {
   "cell_type": "code",
   "execution_count": 55,
   "id": "fcb2e636",
   "metadata": {},
   "outputs": [],
   "source": [
    "# For 'report_source' column, use 'unknown' for empty cells\n",
    "df[\"report_source\"] = df[\"report_source\"].fillna(\"unknown\")"
   ]
  },
  {
   "cell_type": "markdown",
   "id": "56f26a5e",
   "metadata": {},
   "source": [
    "### Step 4: Fix the date column"
   ]
  },
  {
   "cell_type": "code",
   "execution_count": 56,
   "id": "1f6d1609",
   "metadata": {},
   "outputs": [],
   "source": [
    "# Convert 'report_date' to a proper date format\n",
    "df[\"report_date\"] = pd.to_datetime(df[\"report_date\"], errors=\"coerce\")"
   ]
  },
  {
   "cell_type": "markdown",
   "id": "911ce8fd",
   "metadata": {},
   "source": [
    "### Step 5: Remove duplicate rows"
   ]
  },
  {
   "cell_type": "code",
   "execution_count": null,
   "id": "85f71d3b",
   "metadata": {},
   "outputs": [
    {
     "data": {
      "text/plain": [
       "<bound method DataFrame.duplicated of     report_date report_source  report_period  ext_massacres_cum  killed  \\\n",
       "0    2023-10-07        mohtel             24                  0   232.0   \n",
       "1    2023-10-08        mohtel             24                  0   138.0   \n",
       "2    2023-10-09        mohtel             24                  8   190.0   \n",
       "3    2023-10-10        mohtel             24                  8   340.0   \n",
       "4    2023-10-11        gmotel             24                 23   200.0   \n",
       "..          ...           ...            ...                ...     ...   \n",
       "626  2025-06-24        mohtel             24              12000    79.0   \n",
       "627  2025-06-25        mohtel             24              12000    79.0   \n",
       "628  2025-06-26        mohtel             24              12000   103.0   \n",
       "629  2025-06-27        mohtel             24              12000    72.0   \n",
       "630  2025-06-28        mohtel             24              12000    81.0   \n",
       "\n",
       "     killed_cum  ext_killed  ext_killed_cum  ext_killed_children_cum  \\\n",
       "0         232.0         232             232                        0   \n",
       "1         370.0         138             370                       78   \n",
       "2         560.0         190             560                       91   \n",
       "3         900.0         340             900                      260   \n",
       "4        1100.0         200            1100                      398   \n",
       "..          ...         ...             ...                      ...   \n",
       "626     56077.0          79           56077                    18000   \n",
       "627     56156.0          79           56156                    18000   \n",
       "628     56259.0         103           56259                    18000   \n",
       "629     56331.0          72           56331                    18000   \n",
       "630     56412.0          81           56412                    18000   \n",
       "\n",
       "     ext_killed_women_cum  ...  ext_injured_cum  ext_civdef_killed_cum  \\\n",
       "0                       0  ...             1610                      0   \n",
       "1                      41  ...             1788                      0   \n",
       "2                      61  ...             2271                      0   \n",
       "3                     230  ...             4000                      0   \n",
       "4                     230  ...             5184                      0   \n",
       "..                    ...  ...              ...                    ...   \n",
       "626                 12400  ...           131848                    115   \n",
       "627                 12400  ...           132239                    115   \n",
       "628                 12400  ...           132458                    115   \n",
       "629                 12400  ...           132632                    115   \n",
       "630                 12400  ...           133054                    115   \n",
       "\n",
       "     med_killed_cum  ext_med_killed_cum  press_killed_cum  \\\n",
       "0               6.0                   6               1.0   \n",
       "1               0.0                   6               1.0   \n",
       "2               6.0                   6               3.0   \n",
       "3               0.0                   6               7.0   \n",
       "4              10.0                  10               0.0   \n",
       "..              ...                 ...               ...   \n",
       "626             0.0                1583               0.0   \n",
       "627             0.0                1583               0.0   \n",
       "628             0.0                1583               0.0   \n",
       "629             0.0                1583               0.0   \n",
       "630             0.0                1583               0.0   \n",
       "\n",
       "     ext_press_killed_cum  killed_recovered  killed_succumbed  \\\n",
       "0                       1               0.0               0.0   \n",
       "1                       1               0.0               0.0   \n",
       "2                       3               0.0               0.0   \n",
       "3                       7               0.0               0.0   \n",
       "4                       7               0.0               0.0   \n",
       "..                    ...               ...               ...   \n",
       "626                   227               5.0               0.0   \n",
       "627                   227               5.0               0.0   \n",
       "628                   227               0.0               0.0   \n",
       "629                   227               0.0               0.0   \n",
       "630                   227               0.0               0.0   \n",
       "\n",
       "     killed_truce_new  killed_committee  \n",
       "0                 0.0               0.0  \n",
       "1                 0.0               0.0  \n",
       "2                 0.0               0.0  \n",
       "3                 0.0               0.0  \n",
       "4                 0.0               0.0  \n",
       "..                ...               ...  \n",
       "626              74.0               0.0  \n",
       "627              74.0               0.0  \n",
       "628             103.0               0.0  \n",
       "629              72.0               0.0  \n",
       "630              81.0               0.0  \n",
       "\n",
       "[631 rows x 22 columns]>"
      ]
     },
     "execution_count": 58,
     "metadata": {},
     "output_type": "execute_result"
    }
   ],
   "source": [
    "# check duplicated first\n",
    "df.duplicated"
   ]
  },
  {
   "cell_type": "code",
   "execution_count": 59,
   "id": "cf9a15b8",
   "metadata": {},
   "outputs": [],
   "source": [
    "# If any rows are exactly the same, keep only one\n",
    "df = df.drop_duplicates()"
   ]
  },
  {
   "cell_type": "markdown",
   "id": "5c66b4fd",
   "metadata": {},
   "source": [
    "### Step 6: Ensure numbers are stored as numbers"
   ]
  },
  {
   "cell_type": "code",
   "execution_count": 64,
   "id": "49a393ae",
   "metadata": {},
   "outputs": [],
   "source": [
    "# Convert only numeric columns to whole numbers (integers)\n",
    "for column in df.select_dtypes(include=[\"float64\", \"int64\"]).columns:\n",
    "    df[column] = df[column].fillna(0).astype(int)"
   ]
  },
  {
   "cell_type": "code",
   "execution_count": 65,
   "id": "bfbd3ff8",
   "metadata": {},
   "outputs": [],
   "source": [
    "# Convert report_period to a number\n",
    "df[\"report_period\"] = df[\"report_period\"].astype(int)"
   ]
  },
  {
   "cell_type": "markdown",
   "id": "12b9a012",
   "metadata": {},
   "source": [
    "### Step 7: Fix negative numbers"
   ]
  },
  {
   "cell_type": "code",
   "execution_count": 67,
   "id": "728fb908",
   "metadata": {},
   "outputs": [],
   "source": [
    "# Negative counts don't make sense, so change them to 0\n",
    "for column in df.select_dtypes(include=[\"number\"]).columns:\n",
    "    df[column] = df[column].clip(lower=0)"
   ]
  },
  {
   "cell_type": "markdown",
   "id": "96a1dc29",
   "metadata": {},
   "source": [
    "### Step 8: Check cumulative columns"
   ]
  },
  {
   "cell_type": "code",
   "execution_count": 68,
   "id": "890ef798",
   "metadata": {},
   "outputs": [],
   "source": [
    "# Cumulative columns (like total deaths) should never decrease\n",
    "cumulative_columns = [\n",
    "    \"ext_massacres_cum\",\n",
    "    \"killed_cum\",\n",
    "    \"ext_killed_cum\",\n",
    "    \"ext_killed_children_cum\",\n",
    "    \"ext_killed_women_cum\",\n",
    "    \"injured_cum\",\n",
    "    \"ext_injured_cum\",\n",
    "    \"ext_civdef_killed_cum\",\n",
    "    \"med_killed_cum\",\n",
    "    \"ext_med_killed_cum\",\n",
    "    \"press_killed_cum\",\n",
    "    \"ext_press_killed_cum\",\n",
    "]\n",
    "for column in cumulative_columns:\n",
    "    for i in range(1, len(df)):\n",
    "        # If current value is less than previous, use the previous value\n",
    "        if df[column].iloc[i] < df[column].iloc[i - 1]:\n",
    "            df.loc[df.index[i], column] = df[column].iloc[i - 1]"
   ]
  },
  {
   "cell_type": "markdown",
   "id": "b57a7fe2",
   "metadata": {},
   "source": [
    "### Step 9: Check daily vs. cumulative numbers"
   ]
  },
  {
   "cell_type": "code",
   "execution_count": 69,
   "id": "9109e53b",
   "metadata": {},
   "outputs": [],
   "source": [
    "# Cumulative counts should match the sum of daily counts\n",
    "df[\"temp_killed_cum\"] = df[\"killed\"].cumsum()  # Calculate sum of daily 'killed'\n",
    "df[\"killed_cum\"] = df[\"temp_killed_cum\"]  # Update cumulative column\n",
    "df = df.drop(columns=[\"temp_killed_cum\"])  # Remove temporary column"
   ]
  },
  {
   "cell_type": "markdown",
   "id": "0ec1cbc7",
   "metadata": {},
   "source": [
    "### Step 10: Fix report_period values"
   ]
  },
  {
   "cell_type": "code",
   "execution_count": 70,
   "id": "e854793d",
   "metadata": {},
   "outputs": [],
   "source": [
    "# Report period should be 0, 24, or 48 hours; set others to 24\n",
    "df.loc[~df[\"report_period\"].isin([0, 24, 48]), \"report_period\"] = 24"
   ]
  },
  {
   "cell_type": "markdown",
   "id": "f8bef0e7",
   "metadata": {},
   "source": [
    "### Step 11: Clean up report_source"
   ]
  },
  {
   "cell_type": "code",
   "execution_count": 71,
   "id": "bdb3b525",
   "metadata": {},
   "outputs": [],
   "source": [
    "# Make text lowercase and remove extra spaces\n",
    "df[\"report_source\"] = df[\"report_source\"].str.lower().str.strip()\n",
    "# Standardize similar source names\n",
    "df[\"report_source\"] = df[\"report_source\"].replace(\n",
    "    {\"gmotel\": \"mohtel\", \"missing\": \"unknown\"}\n",
    ")"
   ]
  },
  {
   "cell_type": "markdown",
   "id": "8293fbb5",
   "metadata": {},
   "source": [
    "### Step 12: Save the cleaned data"
   ]
  },
  {
   "cell_type": "code",
   "execution_count": null,
   "id": "8fce8684",
   "metadata": {},
   "outputs": [],
   "source": [
    "# Save the cleaned table to a new CSV file\n",
    "df.to_csv(\n",
    "    \"../../1_datasets/data/clean_datasets/casualties_cleaned_data.csv\", index=False\n",
    ")"
   ]
  }
 ],
 "metadata": {
  "kernelspec": {
   "display_name": "Taklif-AI",
   "language": "python",
   "name": "python3"
  },
  "language_info": {
   "codemirror_mode": {
    "name": "ipython",
    "version": 3
   },
   "file_extension": ".py",
   "mimetype": "text/x-python",
   "name": "python",
   "nbconvert_exporter": "python",
   "pygments_lexer": "ipython3",
   "version": "3.12.6"
  }
 },
 "nbformat": 4,
 "nbformat_minor": 5
}
